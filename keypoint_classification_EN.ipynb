{
  "cells": [
    {
      "cell_type": "code",
      "execution_count": 4,
      "metadata": {
        "id": "igMyGnjE9hEp"
      },
      "outputs": [],
      "source": [
        "import csv\n",
        "\n",
        "import numpy as np\n",
        "import tensorflow as tf\n",
        "from sklearn.model_selection import train_test_split\n",
        "import tensorflowjs as tfjs\n",
        "RANDOM_SEED = 42"
      ]
    },
    {
      "cell_type": "markdown",
      "metadata": {
        "id": "t2HDvhIu9hEr"
      },
      "source": [
        "# Specify each path"
      ]
    },
    {
      "cell_type": "code",
      "execution_count": 5,
      "metadata": {
        "id": "9NvZP2Zn9hEy"
      },
      "outputs": [],
      "source": [
        "dataset = 'model/keypoint_classifier/keypoint.csv'\n",
        "model_save_path = 'model/keypoint_classifier/keypoint_classifier.hdf5'\n",
        "tflite_save_path = 'model/keypoint_classifier/keypoint_classifier.tflite'"
      ]
    },
    {
      "cell_type": "markdown",
      "metadata": {
        "id": "s5oMH7x19hEz"
      },
      "source": [
        "# Set number of classes"
      ]
    },
    {
      "cell_type": "code",
      "execution_count": 6,
      "metadata": {
        "id": "du4kodXL9hEz"
      },
      "outputs": [],
      "source": [
        "NUM_CLASSES = 4"
      ]
    },
    {
      "cell_type": "markdown",
      "metadata": {
        "id": "XjnL0uso9hEz"
      },
      "source": [
        "# Dataset reading"
      ]
    },
    {
      "cell_type": "code",
      "execution_count": 7,
      "metadata": {
        "id": "QT5ZqtEz9hE0"
      },
      "outputs": [],
      "source": [
        "X_dataset = np.loadtxt(dataset, delimiter=',', dtype='float32', usecols=list(range(1, (21 * 2) + 1)))"
      ]
    },
    {
      "cell_type": "code",
      "execution_count": 8,
      "metadata": {
        "id": "QmoKFsp49hE0"
      },
      "outputs": [],
      "source": [
        "y_dataset = np.loadtxt(dataset, delimiter=',', dtype='int32', usecols=(0))"
      ]
    },
    {
      "cell_type": "code",
      "execution_count": 9,
      "metadata": {
        "id": "xQU7JTZ_9hE0"
      },
      "outputs": [],
      "source": [
        "X_train, X_test, y_train, y_test = train_test_split(X_dataset, y_dataset, train_size=0.75, random_state=RANDOM_SEED)"
      ]
    },
    {
      "cell_type": "markdown",
      "metadata": {
        "id": "mxK_lETT9hE0"
      },
      "source": [
        "# Model building"
      ]
    },
    {
      "cell_type": "code",
      "execution_count": 10,
      "metadata": {
        "id": "vHBmUf1t9hE1"
      },
      "outputs": [
        {
          "name": "stdout",
          "output_type": "stream",
          "text": [
            "WARNING:tensorflow:Please add `keras.layers.InputLayer` instead of `keras.Input` to Sequential model. `keras.Input` is intended to be used by Functional model.\n"
          ]
        }
      ],
      "source": [
        "model = tf.keras.models.Sequential([\n",
        "    tf.keras.layers.Input((21 * 2, )),\n",
        "    tf.keras.layers.Dropout(0.2),\n",
        "    tf.keras.layers.Dense(20, activation='relu'),\n",
        "    tf.keras.layers.Dropout(0.4),\n",
        "    tf.keras.layers.Dense(10, activation='relu'),\n",
        "    tf.keras.layers.Dense(NUM_CLASSES, activation='softmax')\n",
        "])"
      ]
    },
    {
      "cell_type": "code",
      "execution_count": 11,
      "metadata": {
        "colab": {
          "base_uri": "https://localhost:8080/"
        },
        "id": "ypqky9tc9hE1",
        "outputId": "5db082bb-30e3-4110-bf63-a1ee777ecd46"
      },
      "outputs": [
        {
          "name": "stdout",
          "output_type": "stream",
          "text": [
            "Model: \"sequential\"\n",
            "_________________________________________________________________\n",
            "Layer (type)                 Output Shape              Param #   \n",
            "=================================================================\n",
            "dropout (Dropout)            (None, 42)                0         \n",
            "_________________________________________________________________\n",
            "dense (Dense)                (None, 20)                860       \n",
            "_________________________________________________________________\n",
            "dropout_1 (Dropout)          (None, 20)                0         \n",
            "_________________________________________________________________\n",
            "dense_1 (Dense)              (None, 10)                210       \n",
            "_________________________________________________________________\n",
            "dense_2 (Dense)              (None, 4)                 44        \n",
            "=================================================================\n",
            "Total params: 1,114\n",
            "Trainable params: 1,114\n",
            "Non-trainable params: 0\n",
            "_________________________________________________________________\n"
          ]
        }
      ],
      "source": [
        "model.summary()  # tf.keras.utils.plot_model(model, show_shapes=True)"
      ]
    },
    {
      "cell_type": "code",
      "execution_count": 12,
      "metadata": {
        "id": "MbMjOflQ9hE1"
      },
      "outputs": [],
      "source": [
        "# Model checkpoint callback\n",
        "cp_callback = tf.keras.callbacks.ModelCheckpoint(\n",
        "    model_save_path, verbose=1, save_weights_only=False)\n",
        "# Callback for early stopping\n",
        "es_callback = tf.keras.callbacks.EarlyStopping(patience=20, verbose=1)"
      ]
    },
    {
      "cell_type": "code",
      "execution_count": 13,
      "metadata": {
        "id": "c3Dac0M_9hE2"
      },
      "outputs": [],
      "source": [
        "# Model compilation\n",
        "model.compile(\n",
        "    optimizer='adam',\n",
        "    loss='sparse_categorical_crossentropy',\n",
        "    metrics=['accuracy']\n",
        ")"
      ]
    },
    {
      "cell_type": "markdown",
      "metadata": {
        "id": "7XI0j1Iu9hE2"
      },
      "source": [
        "# Model training"
      ]
    },
    {
      "cell_type": "code",
      "execution_count": 17,
      "metadata": {
        "colab": {
          "base_uri": "https://localhost:8080/"
        },
        "id": "WirBl-JE9hE3",
        "outputId": "71b30ca2-8294-4d9d-8aa2-800d90d399de",
        "scrolled": true
      },
      "outputs": [
        {
          "name": "stdout",
          "output_type": "stream",
          "text": [
            "Epoch 1/1000\n",
            "29/29 [==============================] - 0s 6ms/step - loss: 0.4738 - accuracy: 0.8253 - val_loss: 0.2022 - val_accuracy: 0.9591\n",
            "\n",
            "Epoch 00001: saving model to model/keypoint_classifier\\keypoint_classifier.hdf5\n",
            "Epoch 2/1000\n",
            "29/29 [==============================] - 0s 3ms/step - loss: 0.4455 - accuracy: 0.8318 - val_loss: 0.1994 - val_accuracy: 0.9591\n",
            "\n",
            "Epoch 00002: saving model to model/keypoint_classifier\\keypoint_classifier.hdf5\n",
            "Epoch 3/1000\n",
            "29/29 [==============================] - 0s 3ms/step - loss: 0.4574 - accuracy: 0.8290 - val_loss: 0.2060 - val_accuracy: 0.9549\n",
            "\n",
            "Epoch 00003: saving model to model/keypoint_classifier\\keypoint_classifier.hdf5\n",
            "Epoch 4/1000\n",
            "29/29 [==============================] - 0s 3ms/step - loss: 0.4695 - accuracy: 0.8323 - val_loss: 0.2028 - val_accuracy: 0.9557\n",
            "\n",
            "Epoch 00004: saving model to model/keypoint_classifier\\keypoint_classifier.hdf5\n",
            "Epoch 5/1000\n",
            "29/29 [==============================] - 0s 3ms/step - loss: 0.4488 - accuracy: 0.8359 - val_loss: 0.2084 - val_accuracy: 0.9541\n",
            "\n",
            "Epoch 00005: saving model to model/keypoint_classifier\\keypoint_classifier.hdf5\n",
            "Epoch 6/1000\n",
            "29/29 [==============================] - 0s 3ms/step - loss: 0.4500 - accuracy: 0.8315 - val_loss: 0.2001 - val_accuracy: 0.9607\n",
            "\n",
            "Epoch 00006: saving model to model/keypoint_classifier\\keypoint_classifier.hdf5\n",
            "Epoch 7/1000\n",
            "29/29 [==============================] - 0s 3ms/step - loss: 0.4649 - accuracy: 0.8281 - val_loss: 0.2081 - val_accuracy: 0.9591\n",
            "\n",
            "Epoch 00007: saving model to model/keypoint_classifier\\keypoint_classifier.hdf5\n",
            "Epoch 8/1000\n",
            "29/29 [==============================] - 0s 3ms/step - loss: 0.4412 - accuracy: 0.8337 - val_loss: 0.2052 - val_accuracy: 0.9591\n",
            "\n",
            "Epoch 00008: saving model to model/keypoint_classifier\\keypoint_classifier.hdf5\n",
            "Epoch 9/1000\n",
            "29/29 [==============================] - 0s 3ms/step - loss: 0.4509 - accuracy: 0.8343 - val_loss: 0.1962 - val_accuracy: 0.9632\n",
            "\n",
            "Epoch 00009: saving model to model/keypoint_classifier\\keypoint_classifier.hdf5\n",
            "Epoch 10/1000\n",
            "29/29 [==============================] - 0s 3ms/step - loss: 0.4503 - accuracy: 0.8365 - val_loss: 0.2020 - val_accuracy: 0.9616\n",
            "\n",
            "Epoch 00010: saving model to model/keypoint_classifier\\keypoint_classifier.hdf5\n",
            "Epoch 11/1000\n",
            "29/29 [==============================] - 0s 4ms/step - loss: 0.4752 - accuracy: 0.8248 - val_loss: 0.2095 - val_accuracy: 0.9582\n",
            "\n",
            "Epoch 00011: saving model to model/keypoint_classifier\\keypoint_classifier.hdf5\n",
            "Epoch 12/1000\n",
            "29/29 [==============================] - 0s 3ms/step - loss: 0.4711 - accuracy: 0.8226 - val_loss: 0.2045 - val_accuracy: 0.9599\n",
            "\n",
            "Epoch 00012: saving model to model/keypoint_classifier\\keypoint_classifier.hdf5\n",
            "Epoch 13/1000\n",
            "29/29 [==============================] - 0s 3ms/step - loss: 0.4589 - accuracy: 0.8312 - val_loss: 0.1947 - val_accuracy: 0.9641\n",
            "\n",
            "Epoch 00013: saving model to model/keypoint_classifier\\keypoint_classifier.hdf5\n",
            "Epoch 14/1000\n",
            "29/29 [==============================] - 0s 3ms/step - loss: 0.4614 - accuracy: 0.8301 - val_loss: 0.2033 - val_accuracy: 0.9607\n",
            "\n",
            "Epoch 00014: saving model to model/keypoint_classifier\\keypoint_classifier.hdf5\n",
            "Epoch 15/1000\n",
            "29/29 [==============================] - 0s 3ms/step - loss: 0.4475 - accuracy: 0.8334 - val_loss: 0.1943 - val_accuracy: 0.9657\n",
            "\n",
            "Epoch 00015: saving model to model/keypoint_classifier\\keypoint_classifier.hdf5\n",
            "Epoch 16/1000\n",
            "29/29 [==============================] - 0s 3ms/step - loss: 0.4534 - accuracy: 0.8298 - val_loss: 0.1931 - val_accuracy: 0.9649\n",
            "\n",
            "Epoch 00016: saving model to model/keypoint_classifier\\keypoint_classifier.hdf5\n",
            "Epoch 17/1000\n",
            "29/29 [==============================] - 0s 3ms/step - loss: 0.4665 - accuracy: 0.8262 - val_loss: 0.2031 - val_accuracy: 0.9641\n",
            "\n",
            "Epoch 00017: saving model to model/keypoint_classifier\\keypoint_classifier.hdf5\n",
            "Epoch 18/1000\n",
            "29/29 [==============================] - 0s 3ms/step - loss: 0.4608 - accuracy: 0.8292 - val_loss: 0.1999 - val_accuracy: 0.9632\n",
            "\n",
            "Epoch 00018: saving model to model/keypoint_classifier\\keypoint_classifier.hdf5\n",
            "Epoch 19/1000\n",
            "29/29 [==============================] - 0s 3ms/step - loss: 0.4397 - accuracy: 0.8323 - val_loss: 0.1993 - val_accuracy: 0.9616\n",
            "\n",
            "Epoch 00019: saving model to model/keypoint_classifier\\keypoint_classifier.hdf5\n",
            "Epoch 20/1000\n",
            "29/29 [==============================] - 0s 3ms/step - loss: 0.4414 - accuracy: 0.8457 - val_loss: 0.2025 - val_accuracy: 0.9557\n",
            "\n",
            "Epoch 00020: saving model to model/keypoint_classifier\\keypoint_classifier.hdf5\n",
            "Epoch 21/1000\n",
            "29/29 [==============================] - 0s 3ms/step - loss: 0.4483 - accuracy: 0.8326 - val_loss: 0.1968 - val_accuracy: 0.9591\n",
            "\n",
            "Epoch 00021: saving model to model/keypoint_classifier\\keypoint_classifier.hdf5\n",
            "Epoch 22/1000\n",
            "29/29 [==============================] - 0s 3ms/step - loss: 0.4530 - accuracy: 0.8345 - val_loss: 0.2017 - val_accuracy: 0.9591\n",
            "\n",
            "Epoch 00022: saving model to model/keypoint_classifier\\keypoint_classifier.hdf5\n",
            "Epoch 23/1000\n",
            "29/29 [==============================] - 0s 4ms/step - loss: 0.4512 - accuracy: 0.8312 - val_loss: 0.2003 - val_accuracy: 0.9616\n",
            "\n",
            "Epoch 00023: saving model to model/keypoint_classifier\\keypoint_classifier.hdf5\n",
            "Epoch 24/1000\n",
            "29/29 [==============================] - 0s 3ms/step - loss: 0.4397 - accuracy: 0.8359 - val_loss: 0.2033 - val_accuracy: 0.9591\n",
            "\n",
            "Epoch 00024: saving model to model/keypoint_classifier\\keypoint_classifier.hdf5\n",
            "Epoch 25/1000\n",
            "29/29 [==============================] - 0s 3ms/step - loss: 0.4480 - accuracy: 0.8373 - val_loss: 0.1967 - val_accuracy: 0.9624\n",
            "\n",
            "Epoch 00025: saving model to model/keypoint_classifier\\keypoint_classifier.hdf5\n",
            "Epoch 26/1000\n",
            "29/29 [==============================] - 0s 3ms/step - loss: 0.4301 - accuracy: 0.8382 - val_loss: 0.1929 - val_accuracy: 0.9632\n",
            "\n",
            "Epoch 00026: saving model to model/keypoint_classifier\\keypoint_classifier.hdf5\n",
            "Epoch 27/1000\n",
            "29/29 [==============================] - 0s 3ms/step - loss: 0.4519 - accuracy: 0.8223 - val_loss: 0.1859 - val_accuracy: 0.9657\n",
            "\n",
            "Epoch 00027: saving model to model/keypoint_classifier\\keypoint_classifier.hdf5\n",
            "Epoch 28/1000\n",
            "29/29 [==============================] - 0s 3ms/step - loss: 0.4569 - accuracy: 0.8315 - val_loss: 0.1893 - val_accuracy: 0.9649\n",
            "\n",
            "Epoch 00028: saving model to model/keypoint_classifier\\keypoint_classifier.hdf5\n",
            "Epoch 29/1000\n",
            "29/29 [==============================] - 0s 3ms/step - loss: 0.4471 - accuracy: 0.8326 - val_loss: 0.1943 - val_accuracy: 0.9641\n",
            "\n",
            "Epoch 00029: saving model to model/keypoint_classifier\\keypoint_classifier.hdf5\n",
            "Epoch 30/1000\n",
            "29/29 [==============================] - 0s 3ms/step - loss: 0.4336 - accuracy: 0.8320 - val_loss: 0.1924 - val_accuracy: 0.9591\n",
            "\n",
            "Epoch 00030: saving model to model/keypoint_classifier\\keypoint_classifier.hdf5\n",
            "Epoch 31/1000\n",
            "29/29 [==============================] - 0s 3ms/step - loss: 0.4496 - accuracy: 0.8340 - val_loss: 0.1986 - val_accuracy: 0.9591\n",
            "\n",
            "Epoch 00031: saving model to model/keypoint_classifier\\keypoint_classifier.hdf5\n",
            "Epoch 32/1000\n",
            "29/29 [==============================] - 0s 3ms/step - loss: 0.4724 - accuracy: 0.8304 - val_loss: 0.2020 - val_accuracy: 0.9591\n",
            "\n",
            "Epoch 00032: saving model to model/keypoint_classifier\\keypoint_classifier.hdf5\n",
            "Epoch 33/1000\n",
            "29/29 [==============================] - 0s 3ms/step - loss: 0.4332 - accuracy: 0.8432 - val_loss: 0.1970 - val_accuracy: 0.9599\n",
            "\n",
            "Epoch 00033: saving model to model/keypoint_classifier\\keypoint_classifier.hdf5\n",
            "Epoch 34/1000\n",
            "29/29 [==============================] - 0s 4ms/step - loss: 0.4478 - accuracy: 0.8309 - val_loss: 0.1941 - val_accuracy: 0.9624\n",
            "\n",
            "Epoch 00034: saving model to model/keypoint_classifier\\keypoint_classifier.hdf5\n",
            "Epoch 35/1000\n",
            "29/29 [==============================] - 0s 3ms/step - loss: 0.4685 - accuracy: 0.8281 - val_loss: 0.2053 - val_accuracy: 0.9566\n",
            "\n",
            "Epoch 00035: saving model to model/keypoint_classifier\\keypoint_classifier.hdf5\n",
            "Epoch 36/1000\n",
            "29/29 [==============================] - 0s 3ms/step - loss: 0.4654 - accuracy: 0.8242 - val_loss: 0.2026 - val_accuracy: 0.9582\n",
            "\n",
            "Epoch 00036: saving model to model/keypoint_classifier\\keypoint_classifier.hdf5\n",
            "Epoch 37/1000\n",
            "29/29 [==============================] - 0s 3ms/step - loss: 0.4528 - accuracy: 0.8318 - val_loss: 0.2028 - val_accuracy: 0.9607\n",
            "\n",
            "Epoch 00037: saving model to model/keypoint_classifier\\keypoint_classifier.hdf5\n",
            "Epoch 38/1000\n",
            "29/29 [==============================] - 0s 3ms/step - loss: 0.4337 - accuracy: 0.8393 - val_loss: 0.2100 - val_accuracy: 0.9549\n",
            "\n",
            "Epoch 00038: saving model to model/keypoint_classifier\\keypoint_classifier.hdf5\n",
            "Epoch 39/1000\n",
            "29/29 [==============================] - 0s 3ms/step - loss: 0.4344 - accuracy: 0.8368 - val_loss: 0.1915 - val_accuracy: 0.9632\n",
            "\n",
            "Epoch 00039: saving model to model/keypoint_classifier\\keypoint_classifier.hdf5\n",
            "Epoch 40/1000\n",
            "29/29 [==============================] - 0s 3ms/step - loss: 0.4451 - accuracy: 0.8318 - val_loss: 0.2028 - val_accuracy: 0.9582\n",
            "\n",
            "Epoch 00040: saving model to model/keypoint_classifier\\keypoint_classifier.hdf5\n",
            "Epoch 41/1000\n",
            "29/29 [==============================] - 0s 3ms/step - loss: 0.4649 - accuracy: 0.8306 - val_loss: 0.2017 - val_accuracy: 0.9591\n",
            "\n",
            "Epoch 00041: saving model to model/keypoint_classifier\\keypoint_classifier.hdf5\n",
            "Epoch 42/1000\n",
            "29/29 [==============================] - 0s 3ms/step - loss: 0.4558 - accuracy: 0.8343 - val_loss: 0.1949 - val_accuracy: 0.9624\n",
            "\n",
            "Epoch 00042: saving model to model/keypoint_classifier\\keypoint_classifier.hdf5\n",
            "Epoch 43/1000\n",
            "29/29 [==============================] - 0s 3ms/step - loss: 0.4533 - accuracy: 0.8301 - val_loss: 0.2033 - val_accuracy: 0.9591\n",
            "\n",
            "Epoch 00043: saving model to model/keypoint_classifier\\keypoint_classifier.hdf5\n",
            "Epoch 44/1000\n",
            "29/29 [==============================] - 0s 3ms/step - loss: 0.4499 - accuracy: 0.8267 - val_loss: 0.2127 - val_accuracy: 0.9524\n",
            "\n",
            "Epoch 00044: saving model to model/keypoint_classifier\\keypoint_classifier.hdf5\n",
            "Epoch 45/1000\n",
            "29/29 [==============================] - 0s 3ms/step - loss: 0.4491 - accuracy: 0.8343 - val_loss: 0.1990 - val_accuracy: 0.9624\n",
            "\n",
            "Epoch 00045: saving model to model/keypoint_classifier\\keypoint_classifier.hdf5\n",
            "Epoch 46/1000\n",
            "29/29 [==============================] - 0s 3ms/step - loss: 0.4345 - accuracy: 0.8457 - val_loss: 0.1960 - val_accuracy: 0.9641\n",
            "\n",
            "Epoch 00046: saving model to model/keypoint_classifier\\keypoint_classifier.hdf5\n",
            "Epoch 47/1000\n",
            "29/29 [==============================] - 0s 3ms/step - loss: 0.4337 - accuracy: 0.8354 - val_loss: 0.2018 - val_accuracy: 0.9566\n",
            "\n",
            "Epoch 00047: saving model to model/keypoint_classifier\\keypoint_classifier.hdf5\n",
            "Epoch 00047: early stopping\n"
          ]
        },
        {
          "data": {
            "text/plain": [
              "<tensorflow.python.keras.callbacks.History at 0x16d3cbd8a30>"
            ]
          },
          "execution_count": 17,
          "metadata": {},
          "output_type": "execute_result"
        }
      ],
      "source": [
        "model.fit(\n",
        "    X_train,\n",
        "    y_train,\n",
        "    epochs=1000,\n",
        "    batch_size=128,\n",
        "    validation_data=(X_test, y_test),\n",
        "    callbacks=[cp_callback, es_callback]\n",
        ")"
      ]
    },
    {
      "cell_type": "code",
      "execution_count": 18,
      "metadata": {
        "colab": {
          "base_uri": "https://localhost:8080/"
        },
        "id": "pxvb2Y299hE3",
        "outputId": "59eb3185-2e37-4b9e-bc9d-ab1b8ac29b7f"
      },
      "outputs": [
        {
          "name": "stdout",
          "output_type": "stream",
          "text": [
            "10/10 [==============================] - 0s 2ms/step - loss: 0.2018 - accuracy: 0.9566\n"
          ]
        }
      ],
      "source": [
        "# Model evaluation\n",
        "val_loss, val_acc = model.evaluate(X_test, y_test, batch_size=128)"
      ]
    },
    {
      "cell_type": "code",
      "execution_count": 19,
      "metadata": {
        "id": "RBkmDeUW9hE4"
      },
      "outputs": [],
      "source": [
        "# Loading the saved model\n",
        "model = tf.keras.models.load_model(model_save_path)"
      ]
    },
    {
      "cell_type": "code",
      "execution_count": 20,
      "metadata": {
        "colab": {
          "base_uri": "https://localhost:8080/"
        },
        "id": "tFz9Tb0I9hE4",
        "outputId": "1c3b3528-54ae-4ee2-ab04-77429211cbef"
      },
      "outputs": [
        {
          "name": "stdout",
          "output_type": "stream",
          "text": [
            "[9.3863004e-01 6.1351456e-02 1.0909891e-05 7.5239814e-06]\n",
            "0\n"
          ]
        }
      ],
      "source": [
        "# Inference test\n",
        "predict_result = model.predict(np.array([X_test[0]]))\n",
        "print(np.squeeze(predict_result))\n",
        "print(np.argmax(np.squeeze(predict_result)))"
      ]
    },
    {
      "cell_type": "code",
      "execution_count": null,
      "metadata": {},
      "outputs": [],
      "source": [
        "tfjs.converters.save_keras_model(model, 'model/keypoint_classifier/keypoint_classifier.json')"
      ]
    },
    {
      "cell_type": "markdown",
      "metadata": {
        "id": "S3U4yNWx9hE4"
      },
      "source": [
        "# Confusion matrix"
      ]
    },
    {
      "cell_type": "code",
      "execution_count": null,
      "metadata": {
        "colab": {
          "base_uri": "https://localhost:8080/",
          "height": 582
        },
        "id": "AP1V6SCk9hE5",
        "outputId": "08e41a80-7a4a-4619-8125-ecc371368d19"
      },
      "outputs": [
        {
          "data": {
            "image/png": "[encoded data removed]",
            "text/plain": [
              "<Figure size 504x432 with 2 Axes>"
            ]
          },
          "metadata": {
            "needs_background": "light",
            "tags": []
          },
          "output_type": "display_data"
        },
        {
          "name": "stdout",
          "output_type": "stream",
          "text": [
            "Classification Report\n",
            "              precision    recall  f1-score   support\n",
            "\n",
            "           0       0.99      1.00      0.99       402\n",
            "           1       0.98      0.94      0.96       366\n",
            "           2       0.94      0.98      0.96       343\n",
            "           3       1.00      0.99      0.99        86\n",
            "\n",
            "    accuracy                           0.97      1197\n",
            "   macro avg       0.98      0.98      0.98      1197\n",
            "weighted avg       0.97      0.97      0.97      1197\n",
            "\n"
          ]
        }
      ],
      "source": [
        "import pandas as pd\n",
        "import seaborn as sns\n",
        "import matplotlib.pyplot as plt\n",
        "from sklearn.metrics import confusion_matrix, classification_report\n",
        "\n",
        "def print_confusion_matrix(y_true, y_pred, report=True):\n",
        "    labels = sorted(list(set(y_true)))\n",
        "    cmx_data = confusion_matrix(y_true, y_pred, labels=labels)\n",
        "    \n",
        "    df_cmx = pd.DataFrame(cmx_data, index=labels, columns=labels)\n",
        " \n",
        "    fig, ax = plt.subplots(figsize=(7, 6))\n",
        "    sns.heatmap(df_cmx, annot=True, fmt='g' ,square=False)\n",
        "    ax.set_ylim(len(set(y_true)), 0)\n",
        "    plt.show()\n",
        "    \n",
        "    if report:\n",
        "        print('Classification Report')\n",
        "        print(classification_report(y_test, y_pred))\n",
        "\n",
        "Y_pred = model.predict(X_test)\n",
        "y_pred = np.argmax(Y_pred, axis=1)\n",
        "\n",
        "print_confusion_matrix(y_test, y_pred)"
      ]
    },
    {
      "cell_type": "markdown",
      "metadata": {
        "id": "FNP6aqzc9hE5"
      },
      "source": [
        "# Convert to model for Tensorflow-Lite"
      ]
    },
    {
      "cell_type": "code",
      "execution_count": null,
      "metadata": {
        "id": "ODjnYyld9hE6"
      },
      "outputs": [],
      "source": [
        "# Save as a model dedicated to inference\n",
        "model.save(model_save_path, include_optimizer=False)"
      ]
    },
    {
      "cell_type": "code",
      "execution_count": null,
      "metadata": {
        "colab": {
          "base_uri": "https://localhost:8080/"
        },
        "id": "zRfuK8Y59hE6",
        "outputId": "a4ca585c-b5d5-4244-8291-8674063209bb"
      },
      "outputs": [
        {
          "name": "stdout",
          "output_type": "stream",
          "text": [
            "INFO:tensorflow:Assets written to: /tmp/tmpe5yx255p/assets\n"
          ]
        },
        {
          "data": {
            "text/plain": [
              "6352"
            ]
          },
          "execution_count": 17,
          "metadata": {
            "tags": []
          },
          "output_type": "execute_result"
        }
      ],
      "source": [
        "# Transform model (quantization)\n",
        "\n",
        "converter = tf.lite.TFLiteConverter.from_keras_model(model)\n",
        "converter.optimizations = [tf.lite.Optimize.DEFAULT]\n",
        "tflite_quantized_model = converter.convert()\n",
        "\n",
        "open(tflite_save_path, 'wb').write(tflite_quantized_model)"
      ]
    },
    {
      "cell_type": "markdown",
      "metadata": {
        "id": "CHBPBXdx9hE6"
      },
      "source": [
        "# Inference test"
      ]
    },
    {
      "cell_type": "code",
      "execution_count": null,
      "metadata": {
        "id": "mGAzLocO9hE7"
      },
      "outputs": [],
      "source": [
        "interpreter = tf.lite.Interpreter(model_path=tflite_save_path)\n",
        "interpreter.allocate_tensors()"
      ]
    },
    {
      "cell_type": "code",
      "execution_count": null,
      "metadata": {
        "id": "oQuDK8YS9hE7"
      },
      "outputs": [],
      "source": [
        "# Get I / O tensor\n",
        "input_details = interpreter.get_input_details()\n",
        "output_details = interpreter.get_output_details()"
      ]
    },
    {
      "cell_type": "code",
      "execution_count": null,
      "metadata": {
        "id": "2_ixAf_l9hE7"
      },
      "outputs": [],
      "source": [
        "interpreter.set_tensor(input_details[0]['index'], np.array([X_test[0]]))"
      ]
    },
    {
      "cell_type": "code",
      "execution_count": null,
      "metadata": {
        "colab": {
          "base_uri": "https://localhost:8080/"
        },
        "id": "s4FoAnuc9hE7",
        "outputId": "91f18257-8d8b-4ef3-c558-e9b5f94fabbf",
        "scrolled": true
      },
      "outputs": [
        {
          "name": "stdout",
          "output_type": "stream",
          "text": [
            "CPU times: user 131 µs, sys: 17 µs, total: 148 µs\n",
            "Wall time: 679 µs\n"
          ]
        }
      ],
      "source": [
        "%%time\n",
        "# Inference implementation\n",
        "interpreter.invoke()\n",
        "tflite_results = interpreter.get_tensor(output_details[0]['index'])"
      ]
    },
    {
      "cell_type": "code",
      "execution_count": null,
      "metadata": {
        "colab": {
          "base_uri": "https://localhost:8080/"
        },
        "id": "vONjp19J9hE8",
        "outputId": "77205e24-fd00-42c4-f7b6-e06e527c2cba"
      },
      "outputs": [
        {
          "name": "stdout",
          "output_type": "stream",
          "text": [
            "[9.8105639e-01 1.8674169e-02 2.2328216e-04 4.6191799e-05]\n",
            "0\n"
          ]
        }
      ],
      "source": [
        "print(np.squeeze(tflite_results))\n",
        "print(np.argmax(np.squeeze(tflite_results)))"
      ]
    }
  ],
  "metadata": {
    "accelerator": "GPU",
    "colab": {
      "collapsed_sections": [],
      "name": "keypoint_classification_EN.ipynb",
      "provenance": [],
      "toc_visible": true
    },
    "interpreter": {
      "hash": "d47db629f53a22cbf13af4c490a8de9967023b4461e4a5cd016c30f47ec1c725"
    },
    "kernelspec": {
      "display_name": "Python 3.8.0 ('smnd')",
      "language": "python",
      "name": "python3"
    },
    "language_info": {
      "codemirror_mode": {
        "name": "ipython",
        "version": 3
      },
      "file_extension": ".py",
      "mimetype": "text/x-python",
      "name": "python",
      "nbconvert_exporter": "python",
      "pygments_lexer": "ipython3",
      "version": "3.8.0"
    }
  },
  "nbformat": 4,
  "nbformat_minor": 0
}
